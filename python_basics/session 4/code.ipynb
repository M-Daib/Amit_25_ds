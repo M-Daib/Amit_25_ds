{
 "cells": [
  {
   "cell_type": "markdown",
   "id": "625af69f",
   "metadata": {},
   "source": [
    "OOP classes"
   ]
  },
  {
   "cell_type": "code",
   "execution_count": null,
   "id": "703f8b54",
   "metadata": {},
   "outputs": [],
   "source": [
    "class student:\n",
    "    def __init__(self, name, age, gpa):\n",
    "        self.name = name\n",
    "        self.age = age\n",
    "        self.gpa = gpa\n",
    "    def info(self):\n",
    "        print(self.name, self.age, self.gpa)\n",
    "s1 = student(\"fares\", 20, 2.9)\n",
    "s1.info()"
   ]
  },
  {
   "cell_type": "markdown",
   "id": "38ee54e5",
   "metadata": {},
   "source": [
    "Calc"
   ]
  },
  {
   "cell_type": "code",
   "execution_count": null,
   "id": "47a075c1",
   "metadata": {},
   "outputs": [],
   "source": [
    "class calc:\n",
    "    def __init__(self,num1,num2):\n",
    "        self.num1=num1\n",
    "        self.num2=num2\n",
    "    def add(self):\n",
    "        print(f\"{self.num1} + {self.num2} =\",self.num1+self.num2)\n",
    "    def sub(self):\n",
    "        print(f\"{self.num1} - {self.num2} =\",self.num1-self.num2)\n",
    "    def multi(self):\n",
    "        print(f\"{self.num1} * {self.num2} =\",self.num1*self.num2)\n",
    "    def div(self):\n",
    "        print(f\"{self.num1} / {self.num2} =\",self.num1/self.num2)\n",
    "c=calc(5,12)\n",
    "c.add()\n",
    "c.div()\n",
    "c.multi()\n",
    "c.sub()"
   ]
  },
  {
   "cell_type": "markdown",
   "id": "e2ac098d",
   "metadata": {},
   "source": [
    "Abstract"
   ]
  },
  {
   "cell_type": "code",
   "execution_count": null,
   "id": "f7bc0ad5",
   "metadata": {},
   "outputs": [],
   "source": [
    "from abc import ABC, abstractmethod\n",
    "class animal:\n",
    "    @abstractmethod\n",
    "    def sound(self):\n",
    "        pass\n",
    "class dog(animal):\n",
    "    def sound(self):\n",
    "        print(\"bark\")\n",
    "d=dog()\n",
    "d.sound()"
   ]
  },
  {
   "cell_type": "markdown",
   "id": "f80783a1",
   "metadata": {},
   "source": [
    "ChatBot"
   ]
  },
  {
   "cell_type": "code",
   "execution_count": 1,
   "id": "775bf481",
   "metadata": {},
   "outputs": [
    {
     "name": "stdout",
     "output_type": "stream",
     "text": [
      "Chatbot: Hi How can i assist you today?\n",
      "Chatbot:  I'm sorry, I didn't understand.\n",
      "Chatbot:  I'm sorry, I didn't understand.\n",
      "Chatbot:  Hi there!\n",
      "Chatbot:  Hi there!\n",
      "Chatbot:  Farewell!\n"
     ]
    }
   ],
   "source": [
    "import random\n",
    "responses = {\n",
    "    \"hello\": [\"Hello!\", \"Hi there!\", \"Greetings!\"],\n",
    "    \"how are you\": [\"I'm doing well, thank you!\", \"I'm fine, how about you?\"],\n",
    "    \"goodbye\": [\"Goodbye!\", \"See you later!\", \"Farewell!\"],\n",
    "    \"default\": [\"I'm sorry, I didn't understand.\", \"Could you please rephrase that?\"]\n",
    "}\n",
    " \n",
    "def get_response(user_input):\n",
    " \n",
    "  for key in responses:\n",
    "    if key in user_input:\n",
    "      return random.choice(responses[key])\n",
    "  return random.choice(responses[\"default\"])\n",
    " \n",
    " \n",
    "def chatbot():\n",
    "  print(\"Chatbot: Hi How can i assist you today?\")\n",
    " \n",
    "  while True:\n",
    " \n",
    "    user_input = input(\"User:  \").lower()\n",
    "    response = get_response(user_input)\n",
    "    print(\"Chatbot: \", response)\n",
    "    if user_input == \"goodbye\":\n",
    "      break\n",
    "chatbot()\n"
   ]
  },
  {
   "cell_type": "code",
   "execution_count": null,
   "id": "b12deade",
   "metadata": {},
   "outputs": [],
   "source": []
  }
 ],
 "metadata": {
  "kernelspec": {
   "display_name": ".env",
   "language": "python",
   "name": "python3"
  },
  "language_info": {
   "codemirror_mode": {
    "name": "ipython",
    "version": 3
   },
   "file_extension": ".py",
   "mimetype": "text/x-python",
   "name": "python",
   "nbconvert_exporter": "python",
   "pygments_lexer": "ipython3",
   "version": "3.13.5"
  }
 },
 "nbformat": 4,
 "nbformat_minor": 5
}
