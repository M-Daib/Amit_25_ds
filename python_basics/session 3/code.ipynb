{
 "cells": [
  {
   "cell_type": "code",
   "execution_count": 12,
   "id": "d73a4598",
   "metadata": {},
   "outputs": [
    {
     "name": "stdout",
     "output_type": "stream",
     "text": [
      "name is :('fares', 'ahmed')\n"
     ]
    }
   ],
   "source": [
    "def test(*name):\n",
    "    print(\"name is :{}\".format(name))\n",
    "test(\"fares\",\"ahmed\")"
   ]
  },
  {
   "cell_type": "markdown",
   "id": "c08e504f",
   "metadata": {},
   "source": [
    "Lambda"
   ]
  },
  {
   "cell_type": "code",
   "execution_count": 13,
   "id": "50e9e24f",
   "metadata": {},
   "outputs": [
    {
     "data": {
      "text/plain": [
       "6"
      ]
     },
     "execution_count": 13,
     "metadata": {},
     "output_type": "execute_result"
    }
   ],
   "source": [
    "fun=lambda x:x*2\n",
    "fun(12)\n",
    "# * this is another way to write lambda\n",
    "fun2 = (lambda y:y*3)(2)\n",
    "fun2"
   ]
  },
  {
   "cell_type": "code",
   "execution_count": 14,
   "id": "456729dd",
   "metadata": {},
   "outputs": [
    {
     "data": {
      "text/plain": [
       "<function __main__.sum_n.<locals>.<lambda>(a)>"
      ]
     },
     "execution_count": 14,
     "metadata": {},
     "output_type": "execute_result"
    }
   ],
   "source": [
    "def sum_n(n):\n",
    "    return lambda a : a*n\n",
    "sum_n(11)"
   ]
  },
  {
   "cell_type": "markdown",
   "id": "1a5b51dd",
   "metadata": {},
   "source": [
    "Try & except\n"
   ]
  },
  {
   "cell_type": "code",
   "execution_count": 15,
   "id": "f4246479",
   "metadata": {},
   "outputs": [
    {
     "name": "stdout",
     "output_type": "stream",
     "text": [
      "error\n"
     ]
    }
   ],
   "source": [
    " # ! this helps us to avoid some problems may happen if their is some confelcts happen\n",
    "# ! this code below is just an example\n",
    "try :\n",
    "    x=5/0\n",
    "except:\n",
    "    print(\"error\")"
   ]
  },
  {
   "cell_type": "markdown",
   "id": "4657bfd3",
   "metadata": {},
   "source": [
    "Random"
   ]
  },
  {
   "cell_type": "code",
   "execution_count": 16,
   "id": "a4d9f679",
   "metadata": {},
   "outputs": [
    {
     "name": "stdout",
     "output_type": "stream",
     "text": [
      "8.91755092866285\n"
     ]
    }
   ],
   "source": [
    "import random\n",
    "n=random.random()\n",
    "x=n*10\n",
    "print(x)\n"
   ]
  },
  {
   "cell_type": "code",
   "execution_count": null,
   "id": "37d6ccdc",
   "metadata": {},
   "outputs": [
    {
     "data": {
      "text/plain": [
       "'data'"
      ]
     },
     "execution_count": 17,
     "metadata": {},
     "output_type": "execute_result"
    }
   ],
   "source": [
    " #! firstly i need to import random before using it\n",
    "list=[\"ml\",\"data\",12,23]\n",
    "random.choice(list)"
   ]
  },
  {
   "cell_type": "markdown",
   "id": "20ccc3ea",
   "metadata": {},
   "source": [
    "OS"
   ]
  },
  {
   "cell_type": "code",
   "execution_count": 3,
   "id": "baac02eb",
   "metadata": {},
   "outputs": [
    {
     "name": "stdout",
     "output_type": "stream",
     "text": [
      "[]\n"
     ]
    }
   ],
   "source": [
    "import os\n",
    "#! this command is to see whats inside a folder and store it in a string\n",
    "x=os.listdir(\"C:/Users/COMPUMARTS/Downloads/DEPI/Depi_Amit_BNS3_AIS4_S1/python_basics/session 3/test os\")\n",
    "print(x)"
   ]
  },
  {
   "cell_type": "code",
   "execution_count": 18,
   "id": "0e958111",
   "metadata": {},
   "outputs": [
    {
     "name": "stdout",
     "output_type": "stream",
     "text": [
      "C:/Users/COMPUMARTS/Downloads/DEPI/Depi_Amit_BNS3_AIS4_S1/python_basics/session 3/test os\\test 1\n"
     ]
    }
   ],
   "source": [
    " #! this allows me to join paths but it only make an name not a folder or file\n",
    "z=\"C:/Users/COMPUMARTS/Downloads/DEPI/Depi_Amit_BNS3_AIS4_S1/python_basics/session 3/test os\"\n",
    "y=os.path.join(z,\"test 1\")\n",
    "# ! this to make me a folder\n",
    "os.makedirs(y,exist_ok=True)\n",
    "print(y)\n"
   ]
  },
  {
   "cell_type": "code",
   "execution_count": 22,
   "id": "1cbb00dc",
   "metadata": {},
   "outputs": [
    {
     "name": "stdout",
     "output_type": "stream",
     "text": [
      "C:/Users/COMPUMARTS/Downloads/DEPI/Depi_Amit_BNS3_AIS4_S1/python_basics/session 3/test os/test 1\\test\n"
     ]
    }
   ],
   "source": [
    "path=\"C:/Users/COMPUMARTS/Downloads/DEPI/Depi_Amit_BNS3_AIS4_S1/python_basics/session 3/test os/test 1\"\n",
    "file_name=\"test\"\n",
    "a=os.path.join(path,file_name)\n",
    "print(a)\n",
    "#!!!! when i do \"os.makedirs(a)\" it will create the file i added to path\n",
    "os.makedirs(a,exist_ok=True)"
   ]
  },
  {
   "cell_type": "code",
   "execution_count": null,
   "id": "fe602014",
   "metadata": {},
   "outputs": [],
   "source": []
  }
 ],
 "metadata": {
  "kernelspec": {
   "display_name": ".env",
   "language": "python",
   "name": "python3"
  },
  "language_info": {
   "codemirror_mode": {
    "name": "ipython",
    "version": 3
   },
   "file_extension": ".py",
   "mimetype": "text/x-python",
   "name": "python",
   "nbconvert_exporter": "python",
   "pygments_lexer": "ipython3",
   "version": "3.13.5"
  }
 },
 "nbformat": 4,
 "nbformat_minor": 5
}
