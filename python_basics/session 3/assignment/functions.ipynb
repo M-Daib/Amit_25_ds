{
 "cells": [
  {
   "cell_type": "markdown",
   "id": "6f0cf7fd",
   "metadata": {},
   "source": [
    "1- MUltiplacation table"
   ]
  },
  {
   "cell_type": "code",
   "execution_count": null,
   "id": "5bce322a",
   "metadata": {},
   "outputs": [],
   "source": [
    "def multi_table(num):\n",
    "    for i in range(1,11):\n",
    "        print(f\"{num}*{i}=\",num*i)\n",
    "multi_table(100)"
   ]
  },
  {
   "cell_type": "markdown",
   "id": "59656a97",
   "metadata": {},
   "source": [
    "Twin prime\n"
   ]
  },
  {
   "cell_type": "code",
   "execution_count": null,
   "id": "c3b72e49",
   "metadata": {},
   "outputs": [],
   "source": [
    "def prime(num):\n",
    "    if num<2:\n",
    "        return False\n",
    "    for i in range(2,int(num**0.5)+1):\n",
    "        if num%i==0:\n",
    "            return False\n",
    "    return True\n",
    "def twinprime():\n",
    "    for i in range(1000):\n",
    "        if prime(i) and prime(i+2):\n",
    "            print(f\"{i} and {i+2}\")\n",
    "twinprime()"
   ]
  },
  {
   "cell_type": "markdown",
   "id": "564a3fac",
   "metadata": {},
   "source": [
    "Prime factors"
   ]
  },
  {
   "cell_type": "code",
   "execution_count": null,
   "id": "09cd225e",
   "metadata": {},
   "outputs": [],
   "source": [
    "def primefactor(num):\n",
    "    i=2\n",
    "    factors=[]\n",
    "    while i<=num:\n",
    "        if num % i==0:\n",
    "            factors.append(i)\n",
    "            num=num//i\n",
    "        else:\n",
    "            i+=1\n",
    "    print(factors)\n",
    "primefactor(56)\n"
   ]
  },
  {
   "cell_type": "markdown",
   "id": "f8082e26",
   "metadata": {},
   "source": [
    "Decimal to binary"
   ]
  },
  {
   "cell_type": "code",
   "execution_count": null,
   "id": "29464273",
   "metadata": {},
   "outputs": [],
   "source": [
    "def dec_to_bin(num):\n",
    "    bin=\"\"\n",
    "    while num>0:\n",
    "        bin=str(num%2)+bin\n",
    "        num=num//2\n",
    "    print(bin)\n",
    "dec_to_bin(13)"
   ]
  },
  {
   "cell_type": "markdown",
   "id": "2d7c615a",
   "metadata": {},
   "source": [
    "Perfect numbers"
   ]
  },
  {
   "cell_type": "code",
   "execution_count": null,
   "id": "eb74e305",
   "metadata": {},
   "outputs": [
    {
     "name": "stdout",
     "output_type": "stream",
     "text": [
      "6\n",
      "28\n",
      "496\n"
     ]
    }
   ],
   "source": [
    "def perfectnum(num):\n",
    "    nums=[]\n",
    "    for i in range(1,num):\n",
    "        if num%i==0:\n",
    "            nums.append(i)\n",
    "    return sum(nums) == num\n",
    "def find_perfect_numbers(start, end):\n",
    "    for i in range(start, end + 1):\n",
    "        if perfectnum(i):\n",
    "            print(i)\n",
    "find_perfect_numbers(1,1000)"
   ]
  },
  {
   "cell_type": "code",
   "execution_count": null,
   "id": "5f12ceb8",
   "metadata": {},
   "outputs": [],
   "source": []
  },
  {
   "cell_type": "code",
   "execution_count": null,
   "id": "fe13b462",
   "metadata": {},
   "outputs": [],
   "source": []
  }
 ],
 "metadata": {
  "kernelspec": {
   "display_name": ".env",
   "language": "python",
   "name": "python3"
  },
  "language_info": {
   "codemirror_mode": {
    "name": "ipython",
    "version": 3
   },
   "file_extension": ".py",
   "mimetype": "text/x-python",
   "name": "python",
   "nbconvert_exporter": "python",
   "pygments_lexer": "ipython3",
   "version": "3.13.5"
  }
 },
 "nbformat": 4,
 "nbformat_minor": 5
}
