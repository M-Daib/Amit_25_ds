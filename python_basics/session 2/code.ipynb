{
 "cells": [
  {
   "cell_type": "code",
   "execution_count": null,
   "id": "dd910674",
   "metadata": {},
   "outputs": [],
   "source": [
    "listt=[\"text\",1,1.12,True,[1,2,3]]\n",
    "print(listt[4][2])\n"
   ]
  },
  {
   "cell_type": "code",
   "execution_count": null,
   "id": "04b4d193",
   "metadata": {},
   "outputs": [],
   "source": [
    "l1=[\"depi\",\"data\",\"science\"]\n",
    "l1.insert(0,\"ml\")\n",
    "print(l1)"
   ]
  },
  {
   "cell_type": "markdown",
   "id": "05eb7161",
   "metadata": {},
   "source": [
    "some fuctions for lists"
   ]
  },
  {
   "cell_type": "code",
   "execution_count": null,
   "id": "8e63d5b3",
   "metadata": {},
   "outputs": [],
   "source": [
    "x1=[2,8,9,6,4,1,2,3,0,8,5,3]\n",
    "print(\"list\",x1)\n",
    "x1.sort()\n",
    "print(\"sort\",x1)\n",
    "x1.reverse()\n",
    "print(\"reverse\",x1)\n",
    "x1.clear()\n",
    "print(\"clear\",x1)\n"
   ]
  },
  {
   "cell_type": "markdown",
   "id": "6b0a5cb1",
   "metadata": {},
   "source": [
    "to change a value into tuple "
   ]
  },
  {
   "cell_type": "code",
   "execution_count": null,
   "id": "1b049c5b",
   "metadata": {},
   "outputs": [],
   "source": [
    "tuple1=(1,2,3,4,\"depi\",\"learning\",True,(\"ml\",\"dl\"))\n",
    "# *to change a tuple into list\n",
    "x=list(tuple1)\n",
    "x[2]=\"data\"\n",
    "y=tuple(x)\n",
    "print(y)\n"
   ]
  },
  {
   "cell_type": "markdown",
   "id": "41e53a30",
   "metadata": {},
   "source": [
    "dictionary"
   ]
  },
  {
   "cell_type": "code",
   "execution_count": null,
   "id": "e7bf511a",
   "metadata": {},
   "outputs": [],
   "source": [
    "dic={\"name\":\"depi\",\"age\":2,\"course\":\"data science\"}\n",
    "# * to change any value fot a key in dict\n",
    "dic[\"age\"]=3\n",
    "print(dic)"
   ]
  },
  {
   "cell_type": "markdown",
   "id": "83da5ba6",
   "metadata": {},
   "source": [
    "if"
   ]
  },
  {
   "cell_type": "code",
   "execution_count": null,
   "id": "499b4e77",
   "metadata": {},
   "outputs": [],
   "source": [
    "grade=float(input())\n",
    "if 100>=grade>=90:\n",
    "    print(\"A\")\n",
    "elif 90>=grade>=80:\n",
    "    print(\"B\")\n",
    "elif 80>=grade>=70:\n",
    "    print(\"C\")\n",
    "elif 70>=grade>=60:\n",
    "    print(\"D\")\n",
    "else:\n",
    "    print(\"F\")"
   ]
  },
  {
   "cell_type": "markdown",
   "id": "f62d927b",
   "metadata": {},
   "source": [
    "for"
   ]
  },
  {
   "cell_type": "code",
   "execution_count": null,
   "id": "4956bd6f",
   "metadata": {},
   "outputs": [],
   "source": [
    "for i in range(6):\n",
    "    if i == 3:\n",
    "       # ! when i don't know what i will do next\n",
    "        pass\n",
    "    else:\n",
    "        print(i)"
   ]
  },
  {
   "cell_type": "markdown",
   "id": "4778f39c",
   "metadata": {},
   "source": [
    "While"
   ]
  },
  {
   "cell_type": "code",
   "execution_count": 1,
   "id": "da68ff8c",
   "metadata": {},
   "outputs": [
    {
     "name": "stdout",
     "output_type": "stream",
     "text": [
      "5\n",
      "4\n",
      "3\n",
      "2\n",
      "1\n"
     ]
    }
   ],
   "source": [
    "i=5\n",
    "while i>0:\n",
    "    print(i)\n",
    "    i-=1"
   ]
  },
  {
   "cell_type": "markdown",
   "id": "8d66306c",
   "metadata": {},
   "source": [
    "How to read adn write a file"
   ]
  },
  {
   "cell_type": "code",
   "execution_count": 2,
   "id": "1f029242",
   "metadata": {},
   "outputs": [],
   "source": [
    "import os\n",
    "import sys"
   ]
  },
  {
   "cell_type": "code",
   "execution_count": null,
   "id": "67418d2d",
   "metadata": {},
   "outputs": [
    {
     "name": "stdout",
     "output_type": "stream",
     "text": [
      "hello world\n",
      "hello 2\n",
      "\n"
     ]
    }
   ],
   "source": [
    " # ! for olny read file , w for write , and a for not overwriting\n",
    "f=open(\"C:/Users/COMPUMARTS/Downloads/DEPI/Depi_Amit_BNS3_AIS4_S1/python_basics/session 2/test.txt\",\"r\")\n",
    "print(f.read())\n",
    "f.close()"
   ]
  },
  {
   "cell_type": "code",
   "execution_count": null,
   "id": "eadc7b67",
   "metadata": {},
   "outputs": [
    {
     "data": {
      "text/plain": [
       "11"
      ]
     },
     "execution_count": 15,
     "metadata": {},
     "output_type": "execute_result"
    }
   ],
   "source": [
    " # ! open to open file \n",
    " #! when write we write from scratch \n",
    "f=open(\"C:/Users/COMPUMARTS/Downloads/DEPI/Depi_Amit_BNS3_AIS4_S1/python_basics/session 2/test.txt\",\"w\")\n",
    "f.write(\"hello again\")\n",
    "\n"
   ]
  },
  {
   "cell_type": "code",
   "execution_count": null,
   "id": "ec3cc093",
   "metadata": {},
   "outputs": [
    {
     "name": "stdout",
     "output_type": "stream",
     "text": [
      "hello again\n"
     ]
    }
   ],
   "source": [
    " # ! we can't read and write in the same time\n",
    "f=open(\"test.txt\",\"r\")\n",
    "print(f.read())\n",
    "f.close()"
   ]
  },
  {
   "cell_type": "code",
   "execution_count": null,
   "id": "184290f2",
   "metadata": {},
   "outputs": [],
   "source": []
  }
 ],
 "metadata": {
  "kernelspec": {
   "display_name": ".env",
   "language": "python",
   "name": "python3"
  },
  "language_info": {
   "codemirror_mode": {
    "name": "ipython",
    "version": 3
   },
   "file_extension": ".py",
   "mimetype": "text/x-python",
   "name": "python",
   "nbconvert_exporter": "python",
   "pygments_lexer": "ipython3",
   "version": "3.13.5"
  }
 },
 "nbformat": 4,
 "nbformat_minor": 5
}
