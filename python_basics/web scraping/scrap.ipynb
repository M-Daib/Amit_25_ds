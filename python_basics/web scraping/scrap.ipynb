{
 "cells": [
  {
   "cell_type": "code",
   "execution_count": null,
   "id": "2dc8b272",
   "metadata": {},
   "outputs": [],
   "source": [
    "from bs4 import BeautifulSoup\n",
    "with open(\"home.html\",'r') as html_file:\n",
    "    content=html_file.read()\n",
    "    #!this takes every thing in the file and make it ready for me to analyze\n",
    "    soup = BeautifulSoup(content, 'lxml')\n",
    "    #! in here i'am storing every \"h5\" in the html file\n",
    "    courses_main_title=soup.find_all('h5')\n",
    "    #* here i print all \"h5\" in the file\n",
    "    for c in courses_main_title:\n",
    "        print(c)"
   ]
  },
  {
   "cell_type": "markdown",
   "id": "b6c4fdc2",
   "metadata": {},
   "source": [
    "HTML better reading"
   ]
  },
  {
   "cell_type": "code",
   "execution_count": null,
   "id": "18f6ccc4",
   "metadata": {},
   "outputs": [],
   "source": [
    "from bs4 import BeautifulSoup\n",
    "with open(\"home.html\",'r') as html_file:\n",
    "    content=html_file.read()\n",
    "    #!this takes every thing in the file and make it ready for me to analyze\n",
    "    soup = BeautifulSoup(content, 'lxml')\n",
    "    #! in here i'am storing every \"h5\" in the html file\n",
    "    courses_main_title=soup.find_all('h5')\n",
    "    #* here i print all \"h5\" in the file\n",
    "    for c in courses_main_title:\n",
    "        #! here it print the text in 'h5's only not all the structure\n",
    "        print(c.text)"
   ]
  },
  {
   "cell_type": "markdown",
   "id": "af9237e8",
   "metadata": {},
   "source": [
    "Extract any thing from class"
   ]
  },
  {
   "cell_type": "code",
   "execution_count": null,
   "id": "7696bc8f",
   "metadata": {},
   "outputs": [],
   "source": [
    "from bs4 import BeautifulSoup\n",
    "with open(\"home.html\",'r') as html_file:\n",
    "    content=html_file.read()\n",
    "    #!this takes every thing in the file and make it ready for me to analyze\n",
    "    soup = BeautifulSoup(content, 'lxml')\n",
    "    #! here we search for 'div's in the html\n",
    "    #* then we specify specific class we need to search only in like we search only in every card\n",
    "    courses_main_title=soup.find_all('div',class_ ='card')\n",
    "    #* here i print all \"h5\" in the file\n",
    "    for c in courses_main_title:\n",
    "        ''' here we search for the name and the price\n",
    "          after we know their place in the code from the inspect feature or from the HTML code itself'''\n",
    "        coursename=c.h5\n",
    "        courseprice=c.a\n",
    "        print(coursename.text,courseprice.text)"
   ]
  },
  {
   "cell_type": "markdown",
   "id": "a8ba3a96",
   "metadata": {},
   "source": [
    "The requests library"
   ]
  },
  {
   "cell_type": "code",
   "execution_count": 1,
   "id": "d8b0eae2",
   "metadata": {},
   "outputs": [
    {
     "ename": "ModuleNotFoundError",
     "evalue": "No module named 'requests'",
     "output_type": "error",
     "traceback": [
      "\u001b[31m---------------------------------------------------------------------------\u001b[39m",
      "\u001b[31mModuleNotFoundError\u001b[39m                       Traceback (most recent call last)",
      "\u001b[36mCell\u001b[39m\u001b[36m \u001b[39m\u001b[32mIn[1]\u001b[39m\u001b[32m, line 1\u001b[39m\n\u001b[32m----> \u001b[39m\u001b[32m1\u001b[39m \u001b[38;5;28;01mimport\u001b[39;00m\u001b[38;5;250m \u001b[39m\u001b[34;01mrequests\u001b[39;00m\n\u001b[32m      2\u001b[39m \u001b[38;5;28;01mfrom\u001b[39;00m\u001b[38;5;250m \u001b[39m\u001b[34;01mbs4\u001b[39;00m\u001b[38;5;250m \u001b[39m\u001b[38;5;28;01mimport\u001b[39;00m BeautifulSoup\n\u001b[32m      3\u001b[39m html_text=requests.get(\u001b[33m'\u001b[39m\u001b[33mhttps://www.timesjobs.com/candidate/job-search.html?searchType=personalizedSearch&from=submit&searchTextSrc=&searchTextText=&txtKeywords=python&txtLocation=\u001b[39m\u001b[33m'\u001b[39m)\n",
      "\u001b[31mModuleNotFoundError\u001b[39m: No module named 'requests'"
     ]
    }
   ],
   "source": [
    "import requests\n",
    "from bs4 import BeautifulSoup\n",
    "html_text=requests.get('https://www.timesjobs.com/candidate/job-search.html?searchType=personalizedSearch&from=submit&searchTextSrc=&searchTextText=&txtKeywords=python&txtLocation=')\n",
    "                    #! .text to get the html for this site\n",
    "soup = BeautifulSoup(html_text.text,'lxml')\n",
    "           #!notice the deference between the find and find_all\n",
    "job = soup.find_all('li',class_ ='clearfix job-bx wht-shd-bx')\n",
    "# company_name = job.find('h3',class_='joblist-comp-name')\n",
    "for j in job:\n",
    "    print(j.find('h3',class_ = 'joblist-comp-name').text)"
   ]
  },
  {
   "cell_type": "code",
   "execution_count": null,
   "id": "733827cc",
   "metadata": {},
   "outputs": [],
   "source": []
  },
  {
   "cell_type": "code",
   "execution_count": null,
   "id": "dec55f39",
   "metadata": {},
   "outputs": [],
   "source": []
  }
 ],
 "metadata": {
  "kernelspec": {
   "display_name": "Python 3",
   "language": "python",
   "name": "python3"
  },
  "language_info": {
   "codemirror_mode": {
    "name": "ipython",
    "version": 3
   },
   "file_extension": ".py",
   "mimetype": "text/x-python",
   "name": "python",
   "nbconvert_exporter": "python",
   "pygments_lexer": "ipython3",
   "version": "3.13.5"
  }
 },
 "nbformat": 4,
 "nbformat_minor": 5
}
