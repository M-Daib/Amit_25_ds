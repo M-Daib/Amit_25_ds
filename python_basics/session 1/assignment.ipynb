{
 "cells": [
  {
   "cell_type": "markdown",
   "id": "6f1050c3",
   "metadata": {},
   "source": [
    "task 1 : email validation"
   ]
  },
  {
   "cell_type": "code",
   "execution_count": 6,
   "id": "7020490d",
   "metadata": {},
   "outputs": [
    {
     "name": "stdout",
     "output_type": "stream",
     "text": [
      "Valid email address\n",
      "Name: fareses.aam\n",
      "Domain: gmail\n",
      "commercial domain\n"
     ]
    }
   ],
   "source": [
    "email=\"fareses.aam@gmail.com\"\n",
    "#to tell the count and index for @ and . \n",
    "eac=email.count(\"@\")\n",
    "edc=email.count(\".\")\n",
    "eaf=email.find(\"@\")\n",
    "edf=email.find(\".\")\n",
    "name=\"\"\n",
    "domain=\"\"\n",
    "ending=\"\"\n",
    "# email dot count after @\n",
    "edcaa=email[eaf+1:].count(\".\")\n",
    "edfa=email.find(\".\",eaf)\n",
    "\n",
    "#for checking that the . comes after @ and there is only one @ and one . after @\n",
    "if eac ==1 and edfa > eaf and edcaa==1 and edc>=1 :\n",
    "    print(\"Valid email address\")\n",
    "    for i in email:\n",
    "        if i==\"@\":\n",
    "            break\n",
    "        name+=i\n",
    "    print(\"Name:\", name)\n",
    "    for i in email[eaf+1:edfa]:\n",
    "        domain+=i\n",
    "    print(\"Domain:\", domain)\n",
    "    for i in email[edfa+1:]:\n",
    "        ending+=i\n",
    "    if ending ==\"com\":\n",
    "        print(\"commercial domain\")\n",
    "            \n",
    "    elif ending ==\"edu\":\n",
    "        print(\"educational domain\")\n",
    "    else: \n",
    "        print(\"other domain\")\n",
    "else:\n",
    "    print(\"Invalid email address\")\n",
    "\n",
    "\n"
   ]
  },
  {
   "cell_type": "markdown",
   "id": "3493b7be",
   "metadata": {},
   "source": [
    "task 2 : the decoding "
   ]
  },
  {
   "cell_type": "code",
   "execution_count": null,
   "id": "9aec4b93",
   "metadata": {},
   "outputs": [],
   "source": [
    "pharse=\"###!!@mocleW EPGTQ!!!6789\"\n",
    "# to clean the pherse\n",
    "core=\"\".join(i for i in pharse if i.isalpha()or i.isspace())\n",
    "#to turn it into list \n",
    "core=core.split()\n",
    "first=core[0]\n",
    "second=core[1]\n",
    "print(first[::-1],second)"
   ]
  },
  {
   "cell_type": "markdown",
   "id": "93942b31",
   "metadata": {},
   "source": [
    "task 3 :"
   ]
  },
  {
   "cell_type": "code",
   "execution_count": 41,
   "id": "016ea443",
   "metadata": {},
   "outputs": [
    {
     "name": "stdout",
     "output_type": "stream",
     "text": [
      "String PLEU\n"
     ]
    }
   ],
   "source": [
    "pharse=\"&&&**gnirtS PLIO!!@1234\"\n",
    "# to clean the pherse\n",
    "core=\"\".join(i for i in pharse if i.isalpha()or i.isspace())\n",
    "#to turn it into list \n",
    "core=core.split()\n",
    "first=core[0]\n",
    "second=core[1]\n",
    "ToReplace=\"io\"\n",
    "for i in second:\n",
    "    if i.upper() ==\"I\":\n",
    "        second=second.replace(i,\"E\")\n",
    "    elif i.upper() ==\"O\":\n",
    "        second=second.replace(i,\"U\")\n",
    "print(first[::-1],second)"
   ]
  },
  {
   "cell_type": "code",
   "execution_count": null,
   "id": "a163484f",
   "metadata": {},
   "outputs": [],
   "source": []
  }
 ],
 "metadata": {
  "kernelspec": {
   "display_name": ".env",
   "language": "python",
   "name": "python3"
  },
  "language_info": {
   "codemirror_mode": {
    "name": "ipython",
    "version": 3
   },
   "file_extension": ".py",
   "mimetype": "text/x-python",
   "name": "python",
   "nbconvert_exporter": "python",
   "pygments_lexer": "ipython3",
   "version": "3.13.5"
  }
 },
 "nbformat": 4,
 "nbformat_minor": 5
}
