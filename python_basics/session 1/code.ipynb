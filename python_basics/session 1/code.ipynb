{
 "cells": [
  {
   "cell_type": "code",
   "execution_count": null,
   "id": "06b6b10b",
   "metadata": {},
   "outputs": [],
   "source": [
    "y=12\n",
    "x=\"hi\"\n",
    "z=3.14\n",
    "print(type(y))\n",
    "print(type(x))\n",
    "print(type(z))\n",
    "name = \"fares\"\n",
    "age =20\n"
   ]
  },
  {
   "cell_type": "markdown",
   "id": "b4d7f456",
   "metadata": {},
   "source": [
    "FORMAT"
   ]
  },
  {
   "cell_type": "code",
   "execution_count": null,
   "id": "512b03e5",
   "metadata": {},
   "outputs": [],
   "source": [
    "print (\"1-my name is {} and my age is {}\".format(name, age))\n",
    "print(f\"2-my name is {name} and my age is {age}\")"
   ]
  },
  {
   "cell_type": "markdown",
   "id": "cabf7787",
   "metadata": {},
   "source": [
    "deal with data storing"
   ]
  },
  {
   "cell_type": "code",
   "execution_count": null,
   "id": "ca3fd323",
   "metadata": {},
   "outputs": [],
   "source": [
    "#lists stores all data types\n",
    "list=[\"string\", 12 , 3.13 , True]\n",
    "print(\"the list\",list)\n",
    "#dictionaries stores key-value pairs , \n",
    "dict = {\"name\": \"fares\", \"age\": 20}\n",
    "# *dictionary is a mutable data type i can say\n",
    "print(\"the dictionary\",dict[\"name\"], dict[\"age\"])\n",
    "\n",
    "# !!! tuples stores data in a fixed way, it is immutable\n",
    "# !!! tuples are used when you want to store data that should not change\n",
    "tuple = (\"fares\", 20, 3.14)\n",
    "print(\"the tuple\",tuple)\n",
    "# * i cant say tuple[0] = \"new value\" # this will raise an error\n",
    "\n",
    "set = {\"fares\", 20, 3.14}\n",
    "# ! sets don't have index\n",
    "# *set is a mutable data type, but it does not allow duplicate values\n",
    "print(\"the set\",set)\n"
   ]
  },
  {
   "cell_type": "markdown",
   "id": "22a17f3c",
   "metadata": {},
   "source": [
    "^^^STRING FUNCTIONS^^^ "
   ]
  },
  {
   "cell_type": "code",
   "execution_count": null,
   "id": "15d8cf80",
   "metadata": {},
   "outputs": [
    {
     "name": "stdout",
     "output_type": "stream",
     "text": [
      "upper: HELLO WORLD\n",
      "lower: hello world\n",
      "replace: Hi world\n",
      "capitalize: Hello world\n",
      "title: Hello World\n",
      "isalpha: False\n",
      "isdigit: False\n",
      "swapcase: HELLO WORLD\n",
      "count:  1 \n",
      "\n",
      "False\n",
      "True\n",
      "True\n",
      "True \n",
      "\n",
      "split: ['hello', 'world']\n",
      "join: hello world\n",
      "find: 6\n",
      "hello world\n",
      "\n",
      "hello\tworld\n"
     ]
    }
   ],
   "source": [
    "word = \"hello world\"\n",
    "\n",
    "print(\"upper:\",word.upper()) # Convert to uppercase\n",
    "print(\"lower:\",word.lower()) # Convert to lowercase\n",
    "print(\"replace:\",word.replace(\"hello\", \"Hi\")) # Replace substring\n",
    "print(\"capitalize:\",word.capitalize()) # Capitalize the first letter\n",
    "print(\"title:\",word.title()) # Capitalize the first letter of each word\n",
    "print(\"isalpha:\",word.isalpha()) # Check if all characters are alphabetic\n",
    "print(\"isdigit:\",word.isdigit()) # Check if all characters are digits\n",
    "print(\"swapcase:\",word.swapcase()) # Swap case of all characters\n",
    "print(\"count: \",word.count(\"hello\"),\"\\n\") # Count occurrences of a substring\n",
    "\n",
    "print(word.isupper()) # Check if all characters are uppercase\n",
    "print(word.islower()) # Check if all characters are lowercase\n",
    "print(word.startswith(\"h\")) # Check if the string starts with a substring\n",
    "print(word.endswith(\"d\"),\"\\n\") # Check if the string ends with a substring\n",
    "\n",
    "print(\"split:\",word.split(\" \")) # Split the string into a list\n",
    "print(\"join:\", \" \".join([\"hello\", \"world\"])) # Join a list into a string\n",
    "print(\"find:\",word.find(\"world\")) # Find the index of a substring"
   ]
  },
  {
   "cell_type": "code",
   "execution_count": 66,
   "id": "204adb5e",
   "metadata": {},
   "outputs": [
    {
     "name": "stdout",
     "output_type": "stream",
     "text": [
      "hello world\n",
      "\n",
      "hello\tworld\n",
      "hello\\world\n",
      "hello\"world\"\n",
      "hello worl\n"
     ]
    }
   ],
   "source": [
    "print(\"hello world\\n\") #new line\n",
    "print(\"hello\\tworld\") #tab space\n",
    "print(\"hello\\\\world\") #backslash\n",
    "print(\"hello\\\"world\\\"\") #double quotes\n",
    "print(\"hello world\\b\") #backspace\n"
   ]
  },
  {
   "cell_type": "code",
   "execution_count": 69,
   "id": "b1c82f34",
   "metadata": {},
   "outputs": [
    {
     "data": {
      "text/plain": [
       "'test'"
      ]
     },
     "execution_count": 69,
     "metadata": {},
     "output_type": "execute_result"
    }
   ],
   "source": [
    "word=input()\n",
    "word"
   ]
  },
  {
   "cell_type": "code",
   "execution_count": null,
   "id": "d4cff84e",
   "metadata": {},
   "outputs": [],
   "source": []
  }
 ],
 "metadata": {
  "kernelspec": {
   "display_name": ".env",
   "language": "python",
   "name": "python3"
  },
  "language_info": {
   "codemirror_mode": {
    "name": "ipython",
    "version": 3
   },
   "file_extension": ".py",
   "mimetype": "text/x-python",
   "name": "python",
   "nbconvert_exporter": "python",
   "pygments_lexer": "ipython3",
   "version": "3.13.5"
  }
 },
 "nbformat": 4,
 "nbformat_minor": 5
}
