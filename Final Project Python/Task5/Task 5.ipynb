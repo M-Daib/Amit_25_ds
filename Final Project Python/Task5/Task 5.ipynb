{
 "cells": [
  {
   "cell_type": "markdown",
   "id": "71617703",
   "metadata": {},
   "source": [
    "## Task-5\n",
    "\n",
    "Task 7. on workshop\n",
    "- Write a Python program to find all the unique words and count the frequency of occurrence from a given list of strings\n",
    "\n",
    "- **Ex:** [\"Welcome\", \"Ali\", \"Hi\", \"Ali\", \"No\", \"Hi\", \"No\", \"Ali\", \"No\", \"Ali\"]  → {'Ali': 4, 'Welcome': 1, 'No': 3, 'Hi': 2}\n",
    "\n",
    "### convert to function"
   ]
  },
  {
   "cell_type": "code",
   "execution_count": 3,
   "id": "4f80e7f7",
   "metadata": {},
   "outputs": [
    {
     "name": "stdout",
     "output_type": "stream",
     "text": [
      "{'Welcome': 1, 'Hi': 2, 'No': 3, 'Ali': 4}\n"
     ]
    }
   ],
   "source": [
    "def word_frequency(words_list):\n",
    "    # Empty dictionary to store word counts\n",
    "    frequency = {}\n",
    "    \n",
    "    # Count each word in the list\n",
    "    for word in words_list:\n",
    "        frequency[word] = frequency.get(word, 0) + 1\n",
    "    \n",
    "    # Sort by count (smallest to largest)\n",
    "    sorted_freq = dict(sorted(frequency.items(), key=lambda item: item[1]))\n",
    "    \n",
    "    # Return sorted counts\n",
    "    return sorted_freq\n",
    "\n",
    "\n",
    "# Example usage\n",
    "words = [\"Welcome\", \"Ali\", \"Hi\", \"Ali\", \"No\", \"Hi\", \"No\", \"Ali\", \"No\", \"Ali\"]\n",
    "\n",
    "# Get sorted word counts\n",
    "result = word_frequency(words)\n",
    "\n",
    "# Print the result\n",
    "print(result)\n"
   ]
  }
 ],
 "metadata": {
  "kernelspec": {
   "display_name": "env",
   "language": "python",
   "name": "python3"
  },
  "language_info": {
   "codemirror_mode": {
    "name": "ipython",
    "version": 3
   },
   "file_extension": ".py",
   "mimetype": "text/x-python",
   "name": "python",
   "nbconvert_exporter": "python",
   "pygments_lexer": "ipython3",
   "version": "3.12.9"
  }
 },
 "nbformat": 4,
 "nbformat_minor": 5
}
