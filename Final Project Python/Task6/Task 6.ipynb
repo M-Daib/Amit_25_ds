{
 "cells": [
  {
   "cell_type": "markdown",
   "id": "92a0972c",
   "metadata": {},
   "source": [
    "### Task-6\n",
    "read file from hard disk"
   ]
  },
  {
   "cell_type": "code",
   "execution_count": 5,
   "id": "9326b453",
   "metadata": {},
   "outputs": [
    {
     "name": "stdout",
     "output_type": "stream",
     "text": [
      "File content:\n",
      " Hi, I`am Muhammad Fathi \n"
     ]
    }
   ],
   "source": [
    "# Task 6 - Read file from hard disk\n",
    "\n",
    "# Define the file path (change this to the actual file location on your system)\n",
    "file_path = r\"C:\\Users\\wifi\\Desktop\\Test.txt\"\n",
    "\n",
    "\n",
    "try:\n",
    "    # Open the file in read mode ('r')\n",
    "    with open(file_path, 'r', encoding='utf-8') as file:\n",
    "        # Read all the content of the file\n",
    "        content = file.read()\n",
    "        \n",
    "        # Print the content to the console\n",
    "        print(\"File content:\\n\", content)\n",
    "\n",
    "except FileNotFoundError:\n",
    "    # This block runs if the file does not exist at the given path\n",
    "    print(\"Error: The file was not found. Please check the path.\")\n",
    "\n",
    "except Exception as e:\n",
    "    # This block handles any other unexpected errors\n",
    "    print(\"An error occurred:\", e)\n"
   ]
  },
  {
   "cell_type": "markdown",
   "id": "09664fc4",
   "metadata": {},
   "source": [
    "## Requirements\n",
    "\n",
    "1. **Functionality:**\n",
    "   - Implement a function `read_txt_file(file_path)` that reads the contents of a specified text file and returns it as a string. Ensure the function handles exceptions such as file not found or IO errors gracefully.\n",
    "\n",
    "2. **Class Structure:**\n",
    "   - Create a class named `UserExtractor` with the following:\n",
    "     - An `__init__` method that initializes the class with:\n",
    "       - `file_path`: The path to the text file.\n",
    "       - `usernames`: A dictionary to store usernames.\n",
    "     - A method `extract_usernames` that uses the `read_txt_file` function to read the contents of the text file and extracts usernames into a dictionary. \n",
    "       - Assume the format of each line in the file is `username:password`.\n",
    "\n",
    "3. **Assumptions:**\n",
    "   - Each line in the text file is formatted as `username:password`.\n",
    "   - Usernames should be unique in the dictionary.\n",
    "\n",
    "4. **Error Handling:**\n",
    "   - If there is an error in reading the file, ensure that the method returns an appropriate error message.\n"
   ]
  },
  {
   "cell_type": "code",
   "execution_count": 7,
   "id": "5ccc1e67",
   "metadata": {},
   "outputs": [
    {
     "name": "stdout",
     "output_type": "stream",
     "text": [
      "{'ahmed': '1234', 'mona': 'abcd', 'ali': 'pass123'}\n"
     ]
    }
   ],
   "source": [
    "# Function to read text file content\n",
    "def read_txt_file(file_path):\n",
    "    \"\"\"\n",
    "    Reads the contents of a text file and returns it as a string.\n",
    "    Handles file not found and IO errors gracefully.\n",
    "    \"\"\"\n",
    "    try:\n",
    "        with open(file_path, \"r\", encoding=\"utf-8\") as file:\n",
    "            return file.read()  # Return file content as a single string\n",
    "    except FileNotFoundError:\n",
    "        return \"Error: File not found.\"\n",
    "    except IOError as e:\n",
    "        return f\"Error: Unable to read file. {e}\"\n",
    "\n",
    "\n",
    "class UserExtractor:\n",
    "    \"\"\"\n",
    "    A class to extract usernames from a text file where each line is formatted as 'username:password'.\n",
    "    \"\"\"\n",
    "\n",
    "    def __init__(self, file_path):\n",
    "        \"\"\"\n",
    "        Initialize the UserExtractor with file path and an empty dictionary for usernames.\n",
    "        \"\"\"\n",
    "        self.file_path = file_path\n",
    "        self.usernames = {}  # Dictionary to store usernames as keys\n",
    "\n",
    "    def extract_usernames(self):\n",
    "        \"\"\"\n",
    "        Reads the file and extracts usernames into the dictionary.\n",
    "        Returns an error message if the file cannot be read.\n",
    "        \"\"\"\n",
    "        content = read_txt_file(self.file_path)\n",
    "\n",
    "        # Check if reading failed (error message returned instead of content)\n",
    "        if content.startswith(\"Error:\"):\n",
    "            return content\n",
    "\n",
    "        # Process each line of the file\n",
    "        for line in content.splitlines():\n",
    "            if \":\" in line:  # Ensure the line has the format username:password\n",
    "                username, password = line.split(\":\", 1)  # Split into username and password\n",
    "                self.usernames[username] = password  # Store username with its password\n",
    "\n",
    "        return self.usernames\n",
    "\n",
    "\n",
    "# ================== Example Usage ==================\n",
    "# Example file path (use raw string to avoid \\u escape errors on Windows)\n",
    "file_path = r\"C:\\Users\\wifi\\Desktop\\Test.txt\"\n",
    "\n",
    "extractor = UserExtractor(file_path)\n",
    "result = extractor.extract_usernames()\n",
    "print(result)\n"
   ]
  }
 ],
 "metadata": {
  "kernelspec": {
   "display_name": "env",
   "language": "python",
   "name": "python3"
  },
  "language_info": {
   "codemirror_mode": {
    "name": "ipython",
    "version": 3
   },
   "file_extension": ".py",
   "mimetype": "text/x-python",
   "name": "python",
   "nbconvert_exporter": "python",
   "pygments_lexer": "ipython3",
   "version": "3.12.9"
  }
 },
 "nbformat": 4,
 "nbformat_minor": 5
}
