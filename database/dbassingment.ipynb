{
 "cells": [
  {
   "cell_type": "markdown",
   "id": "4db7ffc4",
   "metadata": {},
   "source": [
    "1-Make connection and cursor"
   ]
  },
  {
   "cell_type": "code",
   "execution_count": 6,
   "id": "95848bf0",
   "metadata": {},
   "outputs": [],
   "source": [
    "import psycopg2 as p\n",
    "conn=p.connect(\n",
    "    host='localhost',\n",
    "    database='student_management',\n",
    "    user='postgres',\n",
    "    password='1212'\n",
    ")\n",
    "cur=conn.cursor()\n",
    "conn.autocommit=True"
   ]
  },
  {
   "cell_type": "markdown",
   "id": "f526556b",
   "metadata": {},
   "source": [
    "2-Creating the database"
   ]
  },
  {
   "cell_type": "code",
   "execution_count": 2,
   "id": "c8bfd4a0",
   "metadata": {},
   "outputs": [],
   "source": [
    "cur.execute('create database student_management')"
   ]
  },
  {
   "cell_type": "markdown",
   "id": "34824fde",
   "metadata": {},
   "source": [
    "3-Creating tables"
   ]
  },
  {
   "cell_type": "code",
   "execution_count": 12,
   "id": "5e8196e6",
   "metadata": {},
   "outputs": [],
   "source": [
    "# cur.execute('create table students (student_id serial primary key, name varchar(20), email varchar(255), phone varchar(11))')\n",
    "# cur.execute('create table courses (course_id serial primary key, name varchar(20), credits int);')\n",
    "#!multi line statements must use ''' or \"\"\"\n",
    "cur.execute('''\n",
    "\tcreate table enrollments (\n",
    "\t\tenrollment_id serial primary key,\n",
    "\t\tstudent_id int,\n",
    "\t\tcourse_id int,\n",
    "\t\tgrade varchar(10),\n",
    "\t\tforeign key (student_id) references students(student_id) on update cascade on delete cascade,\n",
    "\t\tforeign key (course_id) references courses(course_id) on update cascade on delete cascade\n",
    "\t)\n",
    "''')\n",
    "\n"
   ]
  },
  {
   "cell_type": "markdown",
   "id": "442f90c1",
   "metadata": {},
   "source": [
    "4-inserting data"
   ]
  },
  {
   "cell_type": "code",
   "execution_count": 14,
   "id": "7ee7e676",
   "metadata": {},
   "outputs": [],
   "source": [
    "cur.execute('''INSERT INTO students (name, email, phone) VALUES\n",
    "('Alice Johnson', 'alice@example.com', '1234567890'),\n",
    "('Bob Smith', 'bob@example.com', '9876543210'),\n",
    "('Charlie Brown', 'charlie@example.com', '5555555555');''')\n",
    "\n",
    "cur.execute('''INSERT INTO courses (name, credits) VALUES\n",
    "('Mathematics', 3),\n",
    "('Computer Science', 4),\n",
    "('History', 2);''')\n",
    "\n",
    "cur.execute('''INSERT INTO enrollments (student_id, course_id, grade) VALUES\n",
    "(1, 1, 'A'),\n",
    "(1, 2, 'B'),\n",
    "(2, 3, 'A'),\n",
    "(3, 2, 'C');''')\n"
   ]
  },
  {
   "cell_type": "markdown",
   "id": "8508eeb0",
   "metadata": {},
   "source": [
    "5-The querys"
   ]
  },
  {
   "cell_type": "code",
   "execution_count": 17,
   "id": "bfcce5e2",
   "metadata": {},
   "outputs": [
    {
     "name": "stdout",
     "output_type": "stream",
     "text": [
      "(1, 'Alice Johnson', 'alice@example.com', '1234567890')\n",
      "(2, 'Bob Smith', 'bob@example.com', '9876543210')\n",
      "(3, 'Charlie Brown', 'charlie@example.com', '5555555555')\n",
      "(4, 'Alice Johnson', 'alice@example.com', '1234567890')\n",
      "(5, 'Bob Smith', 'bob@example.com', '9876543210')\n",
      "(6, 'Charlie Brown', 'charlie@example.com', '5555555555')\n"
     ]
    }
   ],
   "source": [
    "cur.execute('select * from students')\n",
    "for i in cur:\n",
    "    print(i)"
   ]
  },
  {
   "cell_type": "code",
   "execution_count": 21,
   "id": "299d9d96",
   "metadata": {},
   "outputs": [
    {
     "name": "stdout",
     "output_type": "stream",
     "text": [
      "(1, 1, 1, 'A')\n",
      "(3, 2, 3, 'A')\n"
     ]
    }
   ],
   "source": [
    "cur.execute(\"select * from enrollments where grade='A';\")\n",
    "for i in cur:\n",
    "    print(i)"
   ]
  },
  {
   "cell_type": "code",
   "execution_count": 39,
   "id": "f8371d69",
   "metadata": {},
   "outputs": [
    {
     "name": "stdout",
     "output_type": "stream",
     "text": [
      "course name=> Mathematics \n",
      "credits-> 3 \n",
      "\n",
      "course name=> Computer Science \n",
      "credits-> 4 \n",
      "\n",
      "course name=> History \n",
      "credits-> 2 \n",
      "\n"
     ]
    }
   ],
   "source": [
    "cur.execute('select name,credits from courses;')\n",
    "for i in cur:\n",
    "    print('course name=>',i[0],'\\ncredits->',i[1],'\\n')  # i[0] is 'name', i[1] is 'credits'"
   ]
  },
  {
   "cell_type": "code",
   "execution_count": 49,
   "id": "e1c06f57",
   "metadata": {},
   "outputs": [
    {
     "name": "stdout",
     "output_type": "stream",
     "text": [
      "(1, 'Alice Johnson', 'Mathematics')\n",
      "(1, 'Alice Johnson', 'Computer Science')\n",
      "(2, 'Bob Smith', 'History')\n",
      "(3, 'Charlie Brown', 'Computer Science')\n"
     ]
    }
   ],
   "source": [
    "# where s.name='Alice Johnson'\n",
    "cur.execute('''SELECT s.student_id , s.name , c.name\n",
    "FROM students s\n",
    "JOIN enrollments e ON s.student_id = e.student_id\n",
    "JOIN courses c ON e.course_id = c.course_id\n",
    ";''')\n",
    "for i in cur:\n",
    "    print(i)"
   ]
  },
  {
   "cell_type": "code",
   "execution_count": 53,
   "id": "4a14016f",
   "metadata": {},
   "outputs": [
    {
     "name": "stdout",
     "output_type": "stream",
     "text": [
      "student= Alice Johnson courses enrolled in= 2\n",
      "student= Bob Smith courses enrolled in= 1\n",
      "student= Charlie Brown courses enrolled in= 1\n"
     ]
    }
   ],
   "source": [
    "cur.execute('''\n",
    "SELECT s.name, COUNT(e.course_id) AS total_courses\n",
    "FROM students s\n",
    "JOIN enrollments e ON s.student_id = e.student_id\n",
    "GROUP BY s.name;''')\n",
    "for i in cur:\n",
    "    print('student=',i[0],'courses enrolled in=',i[1])"
   ]
  },
  {
   "cell_type": "code",
   "execution_count": 57,
   "id": "173f6055",
   "metadata": {},
   "outputs": [
    {
     "name": "stdout",
     "output_type": "stream",
     "text": [
      "students not enrolled in any courses\n",
      "-Bob Smith\n",
      "-Charlie Brown\n",
      "-Alice Johnson\n"
     ]
    }
   ],
   "source": [
    "cur.execute('''\n",
    "SELECT s.name\n",
    "FROM students s\n",
    "LEFT JOIN enrollments e ON s.student_id = e.student_id\n",
    "WHERE e.course_id IS NULL;''')\n",
    "print('students not enrolled in any courses')\n",
    "\n",
    "for i in cur:\n",
    "    print('-'+i[0])"
   ]
  },
  {
   "cell_type": "code",
   "execution_count": 59,
   "id": "b31a72e0",
   "metadata": {},
   "outputs": [
    {
     "name": "stdout",
     "output_type": "stream",
     "text": [
      "(4, 3, 2, 'C')\n",
      "(2, 1, 2, 'B')\n",
      "(1, 1, 1, 'A')\n",
      "(3, 2, 3, 'A')\n"
     ]
    }
   ],
   "source": [
    "cur.execute('''SELECT * \n",
    "FROM enrollments\n",
    "ORDER BY grade DESC;''')\n",
    "for i in cur:\n",
    "    print(i)"
   ]
  },
  {
   "cell_type": "code",
   "execution_count": 64,
   "id": "5589fe5c",
   "metadata": {},
   "outputs": [
    {
     "name": "stdout",
     "output_type": "stream",
     "text": [
      "average grades: 3.25\n"
     ]
    }
   ],
   "source": [
    "#grades in numeric values\n",
    "n_grades = {'A': 4, 'B': 3, 'C': 2, 'D': 1, 'F': 0}\n",
    "\n",
    "cur.execute('SELECT * FROM enrollments;')\n",
    "#to put all grades into list for calculating avg\n",
    "grades = []\n",
    "for i in cur:\n",
    "    #!we get the numeric values and put it in grades list to calc its avg\n",
    "    n_grades_values = n_grades.get(i[3])\n",
    "    grades.append(n_grades_values)\n",
    "\n",
    "avggrades = sum(grades)\n",
    "print('average grades:', avggrades / len(grades))"
   ]
  },
  {
   "cell_type": "code",
   "execution_count": null,
   "id": "74a0d362",
   "metadata": {},
   "outputs": [],
   "source": []
  }
 ],
 "metadata": {
  "kernelspec": {
   "display_name": ".env",
   "language": "python",
   "name": "python3"
  },
  "language_info": {
   "codemirror_mode": {
    "name": "ipython",
    "version": 3
   },
   "file_extension": ".py",
   "mimetype": "text/x-python",
   "name": "python",
   "nbconvert_exporter": "python",
   "pygments_lexer": "ipython3",
   "version": "3.13.5"
  }
 },
 "nbformat": 4,
 "nbformat_minor": 5
}
