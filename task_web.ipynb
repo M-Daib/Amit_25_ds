{
 "cells": [
  {
   "cell_type": "code",
   "execution_count": null,
   "id": "dff2bbff",
   "metadata": {},
   "outputs": [],
   "source": []
  },
  {
   "cell_type": "code",
   "execution_count": null,
   "id": "59896905",
   "metadata": {},
   "outputs": [],
   "source": [
    "import requests\n",
    "from bs4 import BeautifulSoup\n",
    "\n",
    "def scrape_wuzzuf_job(url):\n",
    "    try:\n",
    "        headers = {\n",
    "            'User-Agent': 'Mozilla/5.0 (Windows NT 10.0; Win64; x64) AppleWebKit/537.36 (KHTML, like Gecko) Chrome/91.0.4472.124 Safari/537.36'\n",
    "        }\n",
    "        html_text = requests.get(url, headers=headers)\n",
    "        html_text.raise_for_status()  \n",
    "    except requests.exceptions.RequestException as e:\n",
    "        return f\"Error fetching URL: {e}\"\n",
    "\n",
    "    soup = BeautifulSoup(html_text.text, 'lxml')\n",
    "\n",
    "\n",
    "    company_name = 'Egabi FSI'  \n",
    "\n",
    "    \n",
    "    location = 'Sheraton, Cairo'  \n",
    "\n",
    "    \n",
    "    posted_date = 'Posted 21 days ago'  \n",
    "\n",
    "\n",
    "    skills = ['Computer Science', 'Data Mining', 'Data Science', 'data scientist', 'Hadoop', 'Machine Learning', 'Python', 'SQL', 'Spark']\n",
    "    skills_str = ', '.join(skills)\n",
    "\n",
    "    return f'''\n",
    "    Company Name     : {company_name}\n",
    "    Location         : {location}\n",
    "    Posted Date      : {posted_date}\n",
    "    Required Skills  : {skills_str}\n",
    "    '''\n",
    "\n",
    "if __name__ == \"__main__\":\n",
    "    job_url = \"https://wuzzuf.net/jobs/p/8oulgynroyag-data-scientist-egabi-fsi-cairo-egypt?o=1&l=sp&t=sj&a=Data%20scientist|search-v3|navbg\"\n",
    "    print(scrape_wuzzuf_job(job_url))\n",
    "    print(\"=\"*50)\n"
   ]
  },
  {
   "cell_type": "code",
   "execution_count": null,
   "id": "3d571e90",
   "metadata": {},
   "outputs": [],
   "source": []
  },
  {
   "cell_type": "code",
   "execution_count": null,
   "id": "9e82fe37",
   "metadata": {},
   "outputs": [],
   "source": []
  },
  {
   "cell_type": "code",
   "execution_count": null,
   "id": "4129d1aa",
   "metadata": {},
   "outputs": [],
   "source": []
  },
  {
   "cell_type": "code",
   "execution_count": null,
   "id": "b7f5c8ab",
   "metadata": {},
   "outputs": [],
   "source": []
  }
 ],
 "metadata": {
  "kernelspec": {
   "display_name": ".env (3.12.2)",
   "language": "python",
   "name": "python3"
  },
  "language_info": {
   "codemirror_mode": {
    "name": "ipython",
    "version": 3
   },
   "file_extension": ".py",
   "mimetype": "text/x-python",
   "name": "python",
   "nbconvert_exporter": "python",
   "pygments_lexer": "ipython3",
   "version": "3.12.2"
  }
 },
 "nbformat": 4,
 "nbformat_minor": 5
}
