{
 "cells": [
  {
   "cell_type": "code",
   "execution_count": null,
   "id": "c6c416fc",
   "metadata": {},
   "outputs": [],
   "source": [
    "from tkinter import *\n",
    "from tkinter import ttk, messagebox\n",
    "from datetime import datetime\n",
    " \n",
    " \n",
    " \n",
    "class DEPI_AI_TOOL:\n",
    "    def __init__(self, root):\n",
    "        #! the place we stored the main window in it\n",
    "        self.root = root\n",
    "        self.root.geometry(\"1350x700+0+0\")\n",
    "        # the name will display in the window\n",
    "        self.root.title(\"House Price Prediction\")\n",
    "        # window main color\n",
    "        self.root.configure(bg=\"Light Yellow\")\n",
    " \n",
    " \n",
    "        # Title Label\n",
    "        title = Label(self.root, text=\"Fares Esaam\", compound=CENTER,\n",
    "                      font=(\"times new roman\", 40, \"bold\"), bg=\"#010c48\", fg=\"white\", anchor=\"w\", padx=20)\n",
    "        title.place(x=0, y=0, relwidth=1, height=70)\n",
    " \n",
    "        image_frame = LabelFrame(self.root, text=\"Some pictures of houses\", font=(\"times new roman\", 16, \"bold\"), bg=\"Yellow\", fg=\"black\")\n",
    "        image_frame.place(x=875, y=120, width=400, height=550)\n",
    " \n",
    "if __name__ == \"__main__\":\n",
    "    root = Tk()\n",
    "    obj = DEPI_AI_TOOL(root)\n",
    "    root.mainloop()"
   ]
  }
 ],
 "metadata": {
  "kernelspec": {
   "display_name": "Python 3",
   "language": "python",
   "name": "python3"
  },
  "language_info": {
   "codemirror_mode": {
    "name": "ipython",
    "version": 3
   },
   "file_extension": ".py",
   "mimetype": "text/x-python",
   "name": "python",
   "nbconvert_exporter": "python",
   "pygments_lexer": "ipython3",
   "version": "3.13.5"
  }
 },
 "nbformat": 4,
 "nbformat_minor": 5
}
