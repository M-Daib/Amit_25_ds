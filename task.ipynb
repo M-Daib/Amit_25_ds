{
 "cells": [
  {
   "cell_type": "code",
   "execution_count": 1,
   "id": "0fb247a7",
   "metadata": {},
   "outputs": [
    {
     "name": "stdout",
     "output_type": "stream",
     "text": [
      "\n",
      "    Company Name     : Egabi FSI\n",
      "    Location         : Sheraton, Cairo\n",
      "    Posted Date      : Posted 22 days ago\n",
      "    Required Skills  : Python, SQL, Machine Learning, Data Science, Hadoop, Spark, Computer Science, Data Mining, TensorFlow, PyTorch, R, Tableau, Power BI, AWS, Azure, Google Cloud\n",
      "    \n",
      "==================================================\n"
     ]
    }
   ],
   "source": [
    "import requests\n",
    "from bs4 import BeautifulSoup\n",
    "import re\n",
    "\n",
    "def scrape_wuzzuf_job(url):\n",
    "    try:\n",
    "        headers = {\n",
    "            'User-Agent': 'Mozilla/5.0 (Windows NT 10.0; Win64; x64) AppleWebKit/537.36 (KHTML, like Gecko) Chrome/91.0.4472.124 Safari/537.36'\n",
    "        }\n",
    "        html_text = requests.get(url, headers=headers)\n",
    "        html_text.raise_for_status()  \n",
    "    except requests.exceptions.RequestException as e:\n",
    "        return f\"Error fetching URL: {e}\"\n",
    "\n",
    "    soup = BeautifulSoup(html_text.text, 'lxml')\n",
    "\n",
    "   \n",
    "    company_name = 'N/A'\n",
    "    title_tag = soup.find('title')\n",
    "    if title_tag:\n",
    "        title_text = title_tag.text\n",
    "        match = re.search(r'at\\s+([^-\\s]+(?:\\s+[^-\\s]+)*)\\s+in', title_text)\n",
    "        if match:\n",
    "            company_name = match.group(1).strip()\n",
    "    \n",
    "    \n",
    "    location = 'N/A'\n",
    "    if title_tag:\n",
    "        title_text = title_tag.text\n",
    "        match = re.search(r'in\\s+([^–-]+)', title_text)\n",
    "        if match:\n",
    "            location = match.group(1).strip()\n",
    "    \n",
    "   \n",
    "    posted_date = 'N/A'\n",
    "    all_text = soup.get_text()\n",
    "    posted_match = re.search(r'Posted\\s+\\d+\\s+days?\\s+ago', all_text)\n",
    "    if posted_match:\n",
    "        posted_date = posted_match.group(0)\n",
    "    \n",
    " \n",
    "    skills_str = 'N/A'\n",
    "    \n",
    "    skill_keywords = ['Python', 'SQL', 'Machine Learning', 'Data Science', 'Hadoop', 'Spark', \n",
    "                     'Computer Science', 'Data Mining', 'TensorFlow', 'PyTorch', 'R', 'Tableau', \n",
    "                     'Power BI', 'AWS', 'Azure', 'Google Cloud']\n",
    "    \n",
    "    found_skills = []\n",
    "    for skill in skill_keywords:\n",
    "        if skill.lower() in all_text.lower():\n",
    "            found_skills.append(skill)\n",
    "    \n",
    "    skills_str = ', '.join(found_skills) if found_skills else 'N/A'\n",
    "\n",
    "    return f'''\n",
    "    Company Name     : {company_name}\n",
    "    Location         : {location}\n",
    "    Posted Date      : {posted_date}\n",
    "    Required Skills  : {skills_str}\n",
    "    '''\n",
    "\n",
    "if __name__ == \"__main__\":\n",
    "    job_url = \"https://wuzzuf.net/jobs/p/8oulgynroyag-data-scientist-egabi-fsi-cairo-egypt?o=1&l=sp&t=sj&a=Data%20scientist|search-v3|navbg\"\n",
    "    print(scrape_wuzzuf_job(job_url))\n",
    "    print(\"=\"*50)\n"
   ]
  },
  {
   "cell_type": "code",
   "execution_count": null,
   "id": "dbcd3d99",
   "metadata": {},
   "outputs": [],
   "source": []
  },
  {
   "cell_type": "code",
   "execution_count": null,
   "id": "99963dbf",
   "metadata": {},
   "outputs": [],
   "source": []
  },
  {
   "cell_type": "code",
   "execution_count": null,
   "id": "c5bae5d7",
   "metadata": {},
   "outputs": [],
   "source": []
  },
  {
   "cell_type": "code",
   "execution_count": null,
   "id": "195355b2",
   "metadata": {},
   "outputs": [],
   "source": []
  },
  {
   "cell_type": "code",
   "execution_count": null,
   "id": "9672c037",
   "metadata": {},
   "outputs": [],
   "source": []
  }
 ],
 "metadata": {
  "kernelspec": {
   "display_name": ".env (3.12.2)",
   "language": "python",
   "name": "python3"
  },
  "language_info": {
   "codemirror_mode": {
    "name": "ipython",
    "version": 3
   },
   "file_extension": ".py",
   "mimetype": "text/x-python",
   "name": "python",
   "nbconvert_exporter": "python",
   "pygments_lexer": "ipython3",
   "version": "3.12.2"
  }
 },
 "nbformat": 4,
 "nbformat_minor": 5
}
